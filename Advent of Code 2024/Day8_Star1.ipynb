{
 "cells": [
  {
   "cell_type": "markdown",
   "metadata": {},
   "source": [
    "# --- Day 8: Resonant Collinearity ---\n",
    "You find yourselves on the roof of a top-secret Easter Bunny installation.\n",
    "\n",
    "While The Historians do their thing, you take a look at the familiar huge antenna. Much to your surprise, it seems to have been reconfigured to emit a signal that makes people 0.1% more likely to buy Easter Bunny brand Imitation Mediocre Chocolate as a Christmas gift! Unthinkable!\n",
    "\n",
    "Scanning across the city, you find that there are actually many such antennas. Each antenna is tuned to a specific frequency indicated by a single lowercase letter, uppercase letter, or digit. You create a map (your puzzle input) of these antennas. For example:\n",
    "\n",
    "............  \n",
    "........0...  \n",
    ".....0......  \n",
    ".......0....  \n",
    "....0.......  \n",
    "......A.....  \n",
    "............  \n",
    "............  \n",
    "........A...  \n",
    ".........A..  \n",
    "............  \n",
    "............  \n",
    "  \n",
    "The signal only applies its nefarious effect at specific antinodes based on the resonant frequencies of the antennas. In particular, an antinode occurs at any point that is perfectly in line with two antennas of the same frequency - but only when one of the antennas is twice as far away as the other. This means that for any pair of antennas with the same frequency, there are two antinodes, one on either side of them.\n",
    "\n",
    "So, for these two antennas with frequency a, they create the two antinodes marked with #:\n",
    "\n",
    "..........  \n",
    "...#......  \n",
    "..........  \n",
    "....a.....  \n",
    "..........  \n",
    ".....a....  \n",
    "..........  \n",
    "......#...  \n",
    "..........  \n",
    "..........  \n",
    "  \n",
    "Adding a third antenna with the same frequency creates several more antinodes. It would ideally add four antinodes, but two are off the right side of the map, so instead it adds only two:\n",
    "\n",
    "..........  \n",
    "...#......  \n",
    "#.........  \n",
    "....a.....  \n",
    "........a.  \n",
    ".....a....  \n",
    "..#.......  \n",
    "......#...  \n",
    "..........  \n",
    "..........  \n",
    "  \n",
    "Antennas with different frequencies don't create antinodes; A and a count as different frequencies. However, antinodes can occur at locations that contain antennas. In this diagram, the lone antenna with frequency capital A creates no antinodes but has a lowercase-a-frequency antinode at its location:\n",
    "\n",
    "..........  \n",
    "...#......  \n",
    "#.........  \n",
    "....a.....  \n",
    "........a.  \n",
    ".....a....  \n",
    "..#.......  \n",
    "......A...  \n",
    "..........  \n",
    "..........  \n",
    "  \n",
    "The first example has antennas with two different frequencies, so the antinodes they create look like this, plus an antinode overlapping the topmost A-frequency antenna:\n",
    "\n",
    "......#....#  \n",
    "...#....0...  \n",
    "....#0....#.  \n",
    "..#....0....  \n",
    "....0....#..  \n",
    ".#....A.....  \n",
    "...#........  \n",
    "#......#....  \n",
    "........A...  \n",
    ".........A..  \n",
    "..........#.  \n",
    "..........#.  \n",
    "  \n",
    "Because the topmost A-frequency antenna overlaps with a 0-frequency antinode, there are 14 total unique locations that contain an antinode within the bounds of the map.\n",
    "\n",
    "Calculate the impact of the signal. How many unique locations within the bounds of the map contain an antinode?\n",
    "\n"
   ]
  },
  {
   "cell_type": "code",
   "execution_count": 177,
   "metadata": {},
   "outputs": [
    {
     "name": "stdout",
     "output_type": "stream",
     "text": [
      "5\n",
      "5\n"
     ]
    },
    {
     "data": {
      "text/plain": [
       "[['o', '.', '.', '.', 'o'],\n",
       " ['.', '.', '.', '.', '.'],\n",
       " ['.', '.', 'o', '.', '.'],\n",
       " ['.', '.', '.', '.', '.'],\n",
       " ['o', '.', '.', '.', 'o']]"
      ]
     },
     "execution_count": 177,
     "metadata": {},
     "output_type": "execute_result"
    }
   ],
   "source": [
    "with open('input_test_2.txt', 'r') as f:\n",
    "    data = f.readlines()\n",
    "\n",
    "    for i, line in enumerate(data):\n",
    "        data[i] = list(line.replace('\\n', ''))\n",
    "\n",
    "num_rows = len(data)\n",
    "num_cols = len(data[0])\n",
    "\n",
    "print(num_rows)\n",
    "print(num_cols)\n",
    "data"
   ]
  },
  {
   "cell_type": "code",
   "execution_count": 178,
   "metadata": {},
   "outputs": [
    {
     "name": "stdout",
     "output_type": "stream",
     "text": [
      "{'o': [(0, 0), (0, 4), (2, 2), (4, 0), (4, 4)]}\n"
     ]
    }
   ],
   "source": [
    "from collections import defaultdict\n",
    "\n",
    "def storing_character_locations(grid):\n",
    "\n",
    "    char_locations = defaultdict(list)\n",
    "\n",
    "    for i in range(num_rows):\n",
    "        for j in range(num_cols):\n",
    "            char = grid[i][j]\n",
    "\n",
    "            if char != '.' and char != '#':\n",
    "                char_locations[char].append((i, j))\n",
    "        \n",
    "    return dict(char_locations)\n",
    "\n",
    "print(storing_character_locations(data))"
   ]
  },
  {
   "cell_type": "code",
   "execution_count": 179,
   "metadata": {},
   "outputs": [
    {
     "name": "stdout",
     "output_type": "stream",
     "text": [
      "{'o': [(0, 0), (0, 4), (2, 2), (4, 0), (4, 4)]}\n",
      "\n",
      "o\n",
      "i, j: 0, 0\n",
      "w, z: 0, 4\n",
      "w, z: 2, 2\n",
      "w, z: 4, 0\n",
      "w, z: 4, 4\n",
      "i, j: 0, 4\n",
      "w, z: 2, 2\n",
      "w, z: 4, 0\n",
      "w, z: 4, 4\n",
      "i, j: 2, 2\n",
      "w, z: 4, 0\n",
      "w, z: 4, 4\n",
      "i, j: 4, 0\n",
      "w, z: 4, 4\n",
      "i, j: 4, 4\n"
     ]
    },
    {
     "data": {
      "text/plain": [
       "0"
      ]
     },
     "execution_count": 179,
     "metadata": {},
     "output_type": "execute_result"
    }
   ],
   "source": [
    "def count_antinodes(char_locations):\n",
    "    print(char_locations)\n",
    "    result = 0\n",
    "    all_char_positions = set((i, j) for locs in char_locations.values() for (i, j) in locs)\n",
    "\n",
    "\n",
    "    for char in char_locations:\n",
    "        print(f'\\n{char}')\n",
    "        slice_i = 1 # start without controlling the first position\n",
    "        \n",
    "        for i, j in char_locations[char]:\n",
    "            print(f'i, j: {i}, {j}')\n",
    "            for w, z in char_locations[char][slice_i:]:\n",
    "                print(f'w, z: {w}, {z}')\n",
    "\n",
    "                vert_dist = w - i # We know that i is lower because we stored the char locations in order up -> down. This also tells us that the antinode will be above i and below w\n",
    "                horiz_dist = abs(j - z) # We dont know which is higher or lower\n",
    "    \n",
    "                # For the i we only check if the antinode is above the first row\n",
    "                if i - vert_dist >= 0 and j <= z:\n",
    "                    if j - horiz_dist >= 0:\n",
    "                        if (i-vert_dist, j-horiz_dist) not in all_char_positions:\n",
    "                            result += 1\n",
    "                            print('+1')\n",
    "    \n",
    "                elif i - vert_dist >= 0 and j > z:\n",
    "                    if j + horiz_dist < num_cols:\n",
    "                        if (i-vert_dist, j+horiz_dist) not in all_char_positions:\n",
    "                            result += 1\n",
    "                            print('+1')\n",
    "    \n",
    "    \n",
    "                # for w we only check if the antinode is below the last row\n",
    "                if w + vert_dist < num_rows and z <= j:\n",
    "                    if z - horiz_dist >= 0:\n",
    "                        if (w+vert_dist, z-horiz_dist) not in all_char_positions:\n",
    "                            result += 1\n",
    "                            print('+1')\n",
    "    \n",
    "    \n",
    "                elif w + vert_dist < num_rows and z > j:\n",
    "                    if z + horiz_dist < num_cols:\n",
    "                        if (w+vert_dist, z+horiz_dist) not in all_char_positions:\n",
    "                            result += 1\n",
    "                            print('+1')\n",
    "                    \n",
    "\n",
    "            slice_i += 1\n",
    "        \n",
    "    return result\n",
    "\n",
    "count_antinodes(storing_character_locations(data))"
   ]
  },
  {
   "cell_type": "markdown",
   "metadata": {},
   "source": [
    "362 < x > 374\n",
    "not 367"
   ]
  },
  {
   "cell_type": "markdown",
   "metadata": {},
   "source": [
    "### Trying things"
   ]
  },
  {
   "cell_type": "code",
   "execution_count": 36,
   "metadata": {},
   "outputs": [
    {
     "name": "stdout",
     "output_type": "stream",
     "text": [
      "0 0\n",
      "0 1\n",
      "2 2\n",
      "(0, 0)\n"
     ]
    }
   ],
   "source": [
    "# Initialize the grid (a 2D list)\n",
    "grid = [\n",
    "    ['a', 'a', 'c'],\n",
    "    ['d', 'e', 'f'],\n",
    "    ['g', 'h', 'a']\n",
    "]\n",
    "\n",
    "# Initialize the dictionary to store character positions\n",
    "char_count = {}\n",
    "\n",
    "# Iterate over the grid with row (i) and column (j)\n",
    "for i in range(len(grid)):  # Iterate over rows\n",
    "    for j in range(len(grid[i])):  # Iterate over columns in each row\n",
    "        char = grid[i][j]  # The character at position (i, j)\n",
    "        \n",
    "        # If the character is not yet in the dictionary, initialize its value as an empty list\n",
    "        if char not in char_count:\n",
    "            char_count[char] = []\n",
    "        \n",
    "        # Append the position (i, j) to the list for the current character\n",
    "        char_count[char].append((i, j))\n",
    "\n",
    "# Print the dictionary with character positions\n",
    "for i, j in char_count['a']:\n",
    "    print(i, j)\n",
    "print(char_count['a'][0])"
   ]
  }
 ],
 "metadata": {
  "kernelspec": {
   "display_name": "Python 3",
   "language": "python",
   "name": "python3"
  },
  "language_info": {
   "codemirror_mode": {
    "name": "ipython",
    "version": 3
   },
   "file_extension": ".py",
   "mimetype": "text/x-python",
   "name": "python",
   "nbconvert_exporter": "python",
   "pygments_lexer": "ipython3",
   "version": "3.13.1"
  }
 },
 "nbformat": 4,
 "nbformat_minor": 2
}
