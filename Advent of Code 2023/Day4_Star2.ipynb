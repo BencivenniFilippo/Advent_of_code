{
 "cells": [
  {
   "cell_type": "markdown",
   "metadata": {},
   "source": [
    "# --- Part Two ---\n",
    "Just as you're about to report your findings to the Elf, one of you realizes that the rules have actually been printed on the back of every card this whole time.\n",
    "\n",
    "There's no such thing as \"points\". Instead, scratchcards only cause you to win more scratchcards equal to the number of winning numbers you have.\n",
    "\n",
    "Specifically, you win copies of the scratchcards below the winning card equal to the number of matches. So, if card 10 were to have 5 matching numbers, you would win one copy each of cards 11, 12, 13, 14, and 15.\n",
    "\n",
    "Copies of scratchcards are scored like normal scratchcards and have the same card number as the card they copied. So, if you win a copy of card 10 and it has 5 matching numbers, it would then win a copy of the same cards that the original card 10 won: cards 11, 12, 13, 14, and 15. This process repeats until none of the copies cause you to win any more cards. (Cards will never make you copy a card past the end of the table.)\n",
    "\n",
    "This time, the above example goes differently:\n",
    "\n",
    "Card 1: 41 48 83 86 17 | 83 86  6 31 17  9 48 53  \n",
    "Card 2: 13 32 20 16 61 | 61 30 68 82 17 32 24 19  \n",
    "Card 3:  1 21 53 59 44 | 69 82 63 72 16 21 14  1  \n",
    "Card 4: 41 92 73 84 69 | 59 84 76 51 58  5 54 83  \n",
    "Card 5: 87 83 26 28 32 | 88 30 70 12 93 22 82 36  \n",
    "Card 6: 31 18 13 56 72 | 74 77 10 23 35 67 36 11  \n",
    "\n",
    "Card 1 has four matching numbers, so you win one copy each of the next four cards: cards 2, 3, 4, and 5.\n",
    "Your original card 2 has two matching numbers, so you win one copy each of cards 3 and 4.\n",
    "Your copy of card 2 also wins one copy each of cards 3 and 4.\n",
    "Your four instances of card 3 (one original and three copies) have two matching numbers, so you win four copies each of cards 4 and 5.\n",
    "Your eight instances of card 4 (one original and seven copies) have one matching number, so you win eight copies of card 5.\n",
    "Your fourteen instances of card 5 (one original and thirteen copies) have no matching numbers and win no more cards.\n",
    "Your one instance of card 6 (one original) has no matching numbers and wins no more cards.\n",
    "Once all of the originals and copies have been processed, you end up with 1 instance of card 1, 2 instances of card 2, 4 instances of card 3, 8 instances of card 4, 14 instances of card 5, and 1 instance of card 6. In total, this example pile of scratchcards causes you to ultimately have 30 scratchcards!\n",
    "\n",
    "Process all of the original and copied scratchcards until no more scratchcards are won. Including the original set of scratchcards, how many total scratchcards do you end up with?\n",
    "\n"
   ]
  },
  {
   "cell_type": "code",
   "execution_count": 40,
   "metadata": {},
   "outputs": [],
   "source": [
    "with open('input_4.txt', 'r') as f:\n",
    "    data = [line.split(':', 1)[1].strip() for line in f.readlines()]\n",
    "\n",
    "    for i, line in enumerate(data):\n",
    "        data[i] = [nums.split() for nums in (both_nums.strip() for both_nums in line.split('|'))]\n",
    "\n",
    "#data"
   ]
  },
  {
   "cell_type": "code",
   "execution_count": 41,
   "metadata": {},
   "outputs": [
    {
     "data": {
      "text/plain": [
       "6857330"
      ]
     },
     "execution_count": 41,
     "metadata": {},
     "output_type": "execute_result"
    }
   ],
   "source": [
    "def scratchcards(data):\n",
    "    card_copies = {}\n",
    "    result = 0\n",
    "\n",
    "    for i, card in enumerate(data):\n",
    "        dic_i = i+1\n",
    "        card_copies[dic_i] = card_copies.get(dic_i, 1) # Initialize the card copy in the dictionary if it wasnt initialized by previous cards\n",
    "\n",
    "        count = 0\n",
    "\n",
    "        for num in card[0]:\n",
    "            if num in card[1]:\n",
    "                count += 1\n",
    "        \n",
    "        for j in range(dic_i+1, dic_i+1+count):\n",
    "            card_copies[j] = card_copies.get(j, 1) + 1*card_copies[dic_i] # add the number of copies of the current card to the ones it influences next\n",
    "\n",
    "        result += card_copies[dic_i]\n",
    "\n",
    "    return result\n",
    "\n",
    "scratchcards(data)"
   ]
  }
 ],
 "metadata": {
  "kernelspec": {
   "display_name": "Python 3",
   "language": "python",
   "name": "python3"
  },
  "language_info": {
   "codemirror_mode": {
    "name": "ipython",
    "version": 3
   },
   "file_extension": ".py",
   "mimetype": "text/x-python",
   "name": "python",
   "nbconvert_exporter": "python",
   "pygments_lexer": "ipython3",
   "version": "3.13.1"
  }
 },
 "nbformat": 4,
 "nbformat_minor": 2
}
