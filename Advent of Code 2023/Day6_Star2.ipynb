{
 "cells": [
  {
   "cell_type": "markdown",
   "metadata": {},
   "source": [
    "--- Part Two ---\n",
    "As the race is about to start, you realize the piece of paper with race times and record distances you got earlier actually just has very bad kerning. There's really only one race - ignore the spaces between the numbers on each line.\n",
    "\n",
    "So, the example from before:\n",
    "\n",
    "Time:      7  15   30  \n",
    "Distance:  9  40  200  \n",
    "...now instead means this:\n",
    "\n",
    "Time:      71530  \n",
    "Distance:  940200  \n",
    "Now, you have to figure out how many ways there are to win this single race. In this example, the race lasts for 71530 milliseconds and the record distance you need to beat is 940200 millimeters. You could hold the button anywhere from 14 to 71516 milliseconds and beat the record, a total of 71503 ways!\n",
    "\n",
    "How many ways can you beat the record in this one much longer race?"
   ]
  },
  {
   "cell_type": "code",
   "execution_count": 8,
   "metadata": {},
   "outputs": [
    {
     "data": {
      "text/plain": [
       "[['35', '69', '68', '87'], ['213', '1168', '1086', '1248']]"
      ]
     },
     "execution_count": 8,
     "metadata": {},
     "output_type": "execute_result"
    }
   ],
   "source": [
    "with open('input_6.txt', 'r') as f:\n",
    "    data = [line.split() for line in f.readlines()]\n",
    "\n",
    "    data[0].pop(0)\n",
    "    data[1].pop(0)\n",
    "\n",
    "data"
   ]
  },
  {
   "cell_type": "code",
   "execution_count": 9,
   "metadata": {},
   "outputs": [],
   "source": [
    "def win_counter(time: int, winning_distance: int) -> int:\n",
    "    win_count = 0\n",
    "\n",
    "    for i in range(time):\n",
    "        distance = i * (time-i)\n",
    "\n",
    "        if distance > winning_distance:\n",
    "            win_count += 1\n",
    "    \n",
    "    return win_count"
   ]
  },
  {
   "cell_type": "code",
   "execution_count": 12,
   "metadata": {},
   "outputs": [
    {
     "data": {
      "text/plain": [
       "20537782"
      ]
     },
     "execution_count": 12,
     "metadata": {},
     "output_type": "execute_result"
    }
   ],
   "source": [
    "time = ''\n",
    "winning_distance = ''\n",
    "\n",
    "for t, winning_d in zip(data[0], data[1]):\n",
    "    time += t\n",
    "    winning_distance += winning_d\n",
    "\n",
    "time = int(time)\n",
    "winning_distance = int(winning_distance)\n",
    "\n",
    "res = win_counter(time, winning_distance)\n",
    "res"
   ]
  }
 ],
 "metadata": {
  "kernelspec": {
   "display_name": "Python 3",
   "language": "python",
   "name": "python3"
  },
  "language_info": {
   "codemirror_mode": {
    "name": "ipython",
    "version": 3
   },
   "file_extension": ".py",
   "mimetype": "text/x-python",
   "name": "python",
   "nbconvert_exporter": "python",
   "pygments_lexer": "ipython3",
   "version": "3.13.1"
  }
 },
 "nbformat": 4,
 "nbformat_minor": 2
}
