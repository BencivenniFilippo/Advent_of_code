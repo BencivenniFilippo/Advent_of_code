{
 "cells": [
  {
   "cell_type": "markdown",
   "metadata": {},
   "source": [
    "--- Day 3: Rucksack Reorganization ---\n",
    "One Elf has the important job of loading all of the rucksacks with supplies for the jungle journey. Unfortunately, that Elf didn't quite follow the packing instructions, and so a few items now need to be rearranged.\n",
    "\n",
    "Each rucksack has two large compartments. All items of a given type are meant to go into exactly one of the two compartments. The Elf that did the packing failed to follow this rule for exactly one item type per rucksack.\n",
    "\n",
    "The Elves have made a list of all of the items currently in each rucksack (your puzzle input), but they need your help finding the errors. Every item type is identified by a single lowercase or uppercase letter (that is, a and A refer to different types of items).\n",
    "\n",
    "The list of items for each rucksack is given as characters all on a single line. A given rucksack always has the same number of items in each of its two compartments, so the first half of the characters represent items in the first compartment, while the second half of the characters represent items in the second compartment.\n",
    "\n",
    "For example, suppose you have the following list of contents from six rucksacks:\n",
    "\n",
    "vJrwpWtwJgWrhcsFMMfFFhFp  \n",
    "jqHRNqRjqzjGDLGLrsFMfFZSrLrFZsSL  \n",
    "PmmdzqPrVvPwwTWBwg  \n",
    "wMqvLMZHhHMvwLHjbvcjnnSBnvTQFn  \n",
    "ttgJtRGJQctTZtZT  \n",
    "CrZsJsPPZsGzwwsLwLmpwMDw  \n",
    "\n",
    "- The first rucksack contains the items vJrwpWtwJgWrhcsFMMfFFhFp, which means its first compartment contains the items vJrwpWtwJgWr, while the second compartment contains the items hcsFMMfFFhFp. The only item type that appears in both compartments is lowercase p.\n",
    "- The second rucksack's compartments contain jqHRNqRjqzjGDLGL and rsFMfFZSrLrFZsSL. The only item type that appears in both compartments is uppercase L.\n",
    "- The third rucksack's compartments contain PmmdzqPrV and vPwwTWBwg; the only common item type is uppercase P.\n",
    "- The fourth rucksack's compartments only share item type v.\n",
    "- The fifth rucksack's compartments only share item type t.\n",
    "- The sixth rucksack's compartments only share item type s.\n",
    "\n",
    "To help prioritize item rearrangement, every item type can be converted to a priority:\n",
    "\n",
    "- Lowercase item types a through z have priorities 1 through 26.\n",
    "- Uppercase item types A through Z have priorities 27 through 52.\n",
    "\n",
    "In the above example, the priority of the item type that appears in both compartments of each rucksack is 16 (p), 38 (L), 42 (P), 22 (v), 20 (t), and 19 (s); the sum of these is 157.\n",
    "\n",
    "Find the item type that appears in both compartments of each rucksack. What is the sum of the priorities of those item types?\n",
    "\n"
   ]
  },
  {
   "cell_type": "code",
   "execution_count": 43,
   "metadata": {},
   "outputs": [
    {
     "ename": "NameError",
     "evalue": "name 'ànew_data' is not defined",
     "output_type": "error",
     "traceback": [
      "\u001b[1;31m---------------------------------------------------------------------------\u001b[0m",
      "\u001b[1;31mNameError\u001b[0m                                 Traceback (most recent call last)",
      "Cell \u001b[1;32mIn[43], line 9\u001b[0m\n\u001b[0;32m      6\u001b[0m     len_compartment \u001b[38;5;241m=\u001b[39m \u001b[38;5;28mlen\u001b[39m(line)\u001b[38;5;241m/\u001b[39m\u001b[38;5;241m/\u001b[39m\u001b[38;5;241m2\u001b[39m\n\u001b[0;32m      7\u001b[0m     new_data\u001b[38;5;241m.\u001b[39mappend([line[:len_compartment], line[len_compartment:]])\n\u001b[1;32m----> 9\u001b[0m \u001b[43mànew_data\u001b[49m\n",
      "\u001b[1;31mNameError\u001b[0m: name 'ànew_data' is not defined"
     ]
    }
   ],
   "source": [
    "with open('input_3.txt', 'r') as f:\n",
    "    data = [line.strip() for line in f]\n",
    "\n",
    "new_data = []\n",
    "for line in data:\n",
    "    len_compartment = len(line)//2\n",
    "    new_data.append([line[:len_compartment], line[len_compartment:]])\n",
    "\n",
    "#new_data"
   ]
  },
  {
   "cell_type": "code",
   "execution_count": 44,
   "metadata": {},
   "outputs": [],
   "source": [
    "def wrong_items(input):\n",
    "    output = []\n",
    "\n",
    "    for ruck in input:\n",
    "        r1 = set(ruck[0])\n",
    "        r2 = set(ruck[1])\n",
    "\n",
    "        wrong_item = r1 & r2\n",
    "        if wrong_item:\n",
    "            output.append(next(iter(wrong_item)))\n",
    "\n",
    "    return output\n",
    "\n",
    "wrong_items_output = wrong_items(new_data)"
   ]
  },
  {
   "cell_type": "code",
   "execution_count": 45,
   "metadata": {},
   "outputs": [
    {
     "data": {
      "text/plain": [
       "7863"
      ]
     },
     "execution_count": 45,
     "metadata": {},
     "output_type": "execute_result"
    }
   ],
   "source": [
    "def priority_sum(input):\n",
    "    letters = 'abcdefghijklmnopqrstuvwxyzABCDEFGHIJKLMNOPQRSTUVWXYZ'\n",
    "    priority_map = {}\n",
    "\n",
    "    for i, letter in enumerate(letters):\n",
    "        priority_map[letter] = i+1\n",
    "\n",
    "    result = 0\n",
    "\n",
    "    for item in input:\n",
    "        result += priority_map[item]\n",
    "    \n",
    "    return result\n",
    "\n",
    "priority_sum(wrong_items_output)"
   ]
  },
  {
   "cell_type": "markdown",
   "metadata": {},
   "source": [
    "7625 too low"
   ]
  }
 ],
 "metadata": {
  "kernelspec": {
   "display_name": "Python 3",
   "language": "python",
   "name": "python3"
  },
  "language_info": {
   "codemirror_mode": {
    "name": "ipython",
    "version": 3
   },
   "file_extension": ".py",
   "mimetype": "text/x-python",
   "name": "python",
   "nbconvert_exporter": "python",
   "pygments_lexer": "ipython3",
   "version": "3.13.1"
  }
 },
 "nbformat": 4,
 "nbformat_minor": 2
}
