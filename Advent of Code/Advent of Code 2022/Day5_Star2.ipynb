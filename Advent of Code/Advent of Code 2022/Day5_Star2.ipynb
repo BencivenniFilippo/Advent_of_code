{
 "cells": [
  {
   "cell_type": "markdown",
   "metadata": {},
   "source": [
    "As you watch the crane operator expertly rearrange the crates, you notice the process isn't following your prediction.\n",
    "\n",
    "Some mud was covering the writing on the side of the crane, and you quickly wipe it away. The crane isn't a CrateMover 9000 - it's a CrateMover 9001.\n",
    "\n",
    "The CrateMover 9001 is notable for many new and exciting features: air conditioning, leather seats, an extra cup holder, and the ability to pick up and move multiple crates at once.\n",
    "\n",
    "Again considering the example above, the crates begin in the same configuration:\n",
    "\n",
    "    [D]      \n",
    "[N] [C]      \n",
    "[Z] [M] [P]  \n",
    " 1   2   3   \n",
    "Moving a single crate from stack 2 to stack 1 behaves the same as before:\n",
    "\n",
    "[D]        \n",
    "[N] [C]    \n",
    "[Z] [M] [P]  \n",
    " 1   2   3   \n",
    "However, the action of moving three crates from stack 1 to stack 3 means that those three moved crates stay in the same order, resulting in this new configuration:\n",
    "\n",
    "        [D]  \n",
    "        [N]  \n",
    "    [C] [Z]  \n",
    "    [M] [P]  \n",
    " 1   2   3   \n",
    "Next, as both crates are moved from stack 2 to stack 1, they retain their order as well:\n",
    "\n",
    "        [D]  \n",
    "        [N]  \n",
    "[C]     [Z]  \n",
    "[M]     [P]  \n",
    " 1   2   3  \n",
    "Finally, a single crate is still moved from stack 1 to stack 2, but now it's crate C that gets moved:\n",
    "\n",
    "        [D]  \n",
    "        [N]  \n",
    "        [Z]  \n",
    "[M] [C] [P]  \n",
    " 1   2   3  \n",
    "In this example, the CrateMover 9001 has put the crates in a totally different order: MCD.\n",
    "\n",
    "Before the rearrangement process finishes, update your simulation so that the Elves know where they should stand to be ready to unload the final supplies. After the rearrangement procedure completes, what crate ends up on top of each stack?\n",
    "\n"
   ]
  },
  {
   "cell_type": "code",
   "execution_count": 8,
   "metadata": {},
   "outputs": [],
   "source": [
    "with open('input_5.txt', 'r') as f:\n",
    "    data = [line.replace('[', ' ').replace(']', ' ').replace('\\n', '') for line in f.readlines()]\n",
    "data\n",
    "\n",
    "grid = []\n",
    "for i in range(0, 8):\n",
    "    grid.append([])\n",
    "    for j in range(1, len(data[0]), 4):\n",
    "        grid[i].append(data[i][j])\n",
    "\n",
    "grid = [list(row) for row in zip(*grid[::-1])]\n",
    "\n",
    "for stack in grid:\n",
    "    while stack[-1] == ' ':\n",
    "        stack.pop()"
   ]
  },
  {
   "cell_type": "code",
   "execution_count": 9,
   "metadata": {},
   "outputs": [],
   "source": [
    "import re\n",
    "\n",
    "moves = []\n",
    "for i in range(10, len(data)):\n",
    "    moves.append(list(map(int, re.findall(r'\\d+', data[i]))))"
   ]
  },
  {
   "cell_type": "code",
   "execution_count": 14,
   "metadata": {},
   "outputs": [],
   "source": [
    "import copy\n",
    "\n",
    "stacks = copy.deepcopy(grid)\n",
    "\n",
    "for x, move in enumerate(moves):\n",
    "    num_moves = move[0]\n",
    "    i = move[1]-1\n",
    "    j = move[2]-1\n",
    "\n",
    "    to_extend = []\n",
    "\n",
    "    for _ in range(num_moves):\n",
    "        to_extend.append(stacks[i].pop())\n",
    "\n",
    "    to_extend = to_extend[::-1]\n",
    "    stacks[j].extend(to_extend)"
   ]
  },
  {
   "cell_type": "code",
   "execution_count": 15,
   "metadata": {},
   "outputs": [
    {
     "name": "stdout",
     "output_type": "stream",
     "text": [
      "DMRDFRHHH\n"
     ]
    }
   ],
   "source": [
    "res = ''\n",
    "\n",
    "for stack in stacks:\n",
    "    res += stack[-1]\n",
    "\n",
    "print(res)"
   ]
  }
 ],
 "metadata": {
  "kernelspec": {
   "display_name": "Python 3",
   "language": "python",
   "name": "python3"
  },
  "language_info": {
   "codemirror_mode": {
    "name": "ipython",
    "version": 3
   },
   "file_extension": ".py",
   "mimetype": "text/x-python",
   "name": "python",
   "nbconvert_exporter": "python",
   "pygments_lexer": "ipython3",
   "version": "3.13.1"
  }
 },
 "nbformat": 4,
 "nbformat_minor": 2
}
