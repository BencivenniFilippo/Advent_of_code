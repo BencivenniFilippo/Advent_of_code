{
 "cells": [
  {
   "cell_type": "markdown",
   "metadata": {},
   "source": [
    "--- Part Two ---\n",
    "As you finish identifying the misplaced items, the Elves come to you with another issue.\n",
    "\n",
    "For safety, the Elves are divided into groups of three. Every Elf carries a badge that identifies their group. For efficiency, within each group of three Elves, the badge is the only item type carried by all three Elves. That is, if a group's badge is item type B, then all three Elves will have item type B somewhere in their rucksack, and at most two of the Elves will be carrying any other item type.\n",
    "\n",
    "The problem is that someone forgot to put this year's updated authenticity sticker on the badges. All of the badges need to be pulled out of the rucksacks so the new authenticity stickers can be attached.\n",
    "\n",
    "Additionally, nobody wrote down which item type corresponds to each group's badges. The only way to tell which item type is the right one is by finding the one item type that is common between all three Elves in each group.\n",
    "\n",
    "Every set of three lines in your list corresponds to a single group, but each group can have a different badge item type. So, in the above example, the first group's rucksacks are the first three lines:\n",
    "\n",
    "vJrwpWtwJgWrhcsFMMfFFhFp  \n",
    "jqHRNqRjqzjGDLGLrsFMfFZSrLrFZsSL  \n",
    "PmmdzqPrVvPwwTWBwg  \n",
    "\n",
    "And the second group's rucksacks are the next three lines:\n",
    "\n",
    "wMqvLMZHhHMvwLHjbvcjnnSBnvTQFn  \n",
    "ttgJtRGJQctTZtZT  \n",
    "CrZsJsPPZsGzwwsLwLmpwMDw  \n",
    "\n",
    "In the first group, the only item type that appears in all three rucksacks is lowercase r; this must be their badges. In the second group, their badge item type must be Z.\n",
    "\n",
    "Priorities for these items must still be found to organize the sticker attachment efforts: here, they are 18 (r) for the first group and 52 (Z) for the second group. The sum of these is 70.\n",
    "\n",
    "Find the item type that corresponds to the badges of each three-Elf group. What is the sum of the priorities of those item types?\n",
    "\n"
   ]
  },
  {
   "cell_type": "code",
   "execution_count": 8,
   "metadata": {},
   "outputs": [],
   "source": [
    "with open('input_3.txt', 'r') as f:\n",
    "    data = [line.strip() for line in f]\n",
    "\n",
    "new_data = []\n",
    "\n",
    "for i in range(0, len(data)-1, 3):\n",
    "    new_data.append([data[i], data[i+1], data[i+2]])\n",
    "\n",
    "#new_data"
   ]
  },
  {
   "cell_type": "code",
   "execution_count": 9,
   "metadata": {},
   "outputs": [],
   "source": [
    "def wrong_items(input):\n",
    "    output = []\n",
    "\n",
    "    for ruck in input:\n",
    "        r1 = set(ruck[0])\n",
    "        r2 = set(ruck[1])\n",
    "        r3 = set(ruck[2])\n",
    "\n",
    "\n",
    "        wrong_item = r1 & r2 & r3\n",
    "        if wrong_item:\n",
    "            output.append(next(iter(wrong_item)))\n",
    "\n",
    "    return output\n",
    "\n",
    "wrong_items_output = wrong_items(new_data)\n",
    "#wrong_items_output"
   ]
  },
  {
   "cell_type": "code",
   "execution_count": 10,
   "metadata": {},
   "outputs": [
    {
     "data": {
      "text/plain": [
       "2488"
      ]
     },
     "execution_count": 10,
     "metadata": {},
     "output_type": "execute_result"
    }
   ],
   "source": [
    "def priority_sum(input):\n",
    "    letters = 'abcdefghijklmnopqrstuvwxyzABCDEFGHIJKLMNOPQRSTUVWXYZ'\n",
    "    priority_map = {}\n",
    "\n",
    "    for i, letter in enumerate(letters):\n",
    "        priority_map[letter] = i+1\n",
    "\n",
    "    result = 0\n",
    "\n",
    "    for item in input:\n",
    "        result += priority_map[item]\n",
    "    \n",
    "    return result\n",
    "\n",
    "priority_sum(wrong_items_output)"
   ]
  }
 ],
 "metadata": {
  "kernelspec": {
   "display_name": "Python 3",
   "language": "python",
   "name": "python3"
  },
  "language_info": {
   "codemirror_mode": {
    "name": "ipython",
    "version": 3
   },
   "file_extension": ".py",
   "mimetype": "text/x-python",
   "name": "python",
   "nbconvert_exporter": "python",
   "pygments_lexer": "ipython3",
   "version": "3.13.1"
  }
 },
 "nbformat": 4,
 "nbformat_minor": 2
}
