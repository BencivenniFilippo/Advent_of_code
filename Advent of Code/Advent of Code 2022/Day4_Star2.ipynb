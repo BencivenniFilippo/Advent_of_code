{
 "cells": [
  {
   "cell_type": "markdown",
   "metadata": {},
   "source": [
    "--- Part Two ---\n",
    "It seems like there is still quite a bit of duplicate work planned. Instead, the Elves would like to know the number of pairs that overlap at all.\n",
    "\n",
    "In the above example, the first two pairs (2-4,6-8 and 2-3,4-5) don't overlap, while the remaining four pairs (5-7,7-9, 2-8,3-7, 6-6,4-6, and 2-6,4-8) do overlap:\n",
    "\n",
    "5-7,7-9 overlaps in a single section, 7.  \n",
    "2-8,3-7 overlaps all of the sections 3 through 7.  \n",
    "6-6,4-6 overlaps in a single section, 6.  \n",
    "2-6,4-8 overlaps in sections 4, 5, and 6.  \n",
    "\n",
    "So, in this example, the number of overlapping assignment pairs is 4.\n",
    "\n",
    "In how many assignment pairs do the ranges overlap?\n",
    "\n"
   ]
  },
  {
   "cell_type": "code",
   "execution_count": 9,
   "metadata": {},
   "outputs": [],
   "source": [
    "with open ('input_4.txt', 'r') as f:\n",
    "    data = [line.strip().split(',') for line in f.readlines()]\n",
    "    \n",
    "    for i, line in enumerate(data):\n",
    "        data[i] = [line[0].split('-'), line[1].split('-')]\n",
    "\n",
    "#data"
   ]
  },
  {
   "cell_type": "code",
   "execution_count": 10,
   "metadata": {},
   "outputs": [
    {
     "data": {
      "text/plain": [
       "804"
      ]
     },
     "execution_count": 10,
     "metadata": {},
     "output_type": "execute_result"
    }
   ],
   "source": [
    "def contained_num(input):\n",
    "    count = 0\n",
    "\n",
    "    for pair in input:\n",
    "        p1n1 = int(pair[0][0])\n",
    "        p1n2 = int(pair[0][1])\n",
    "        p2n1 = int(pair[1][0])\n",
    "        p2n2 = int(pair[1][1])\n",
    "\n",
    "        if p1n1 <= p2n1 <= p1n2 or p1n1 <= p2n2 <= p1n2:\n",
    "            count += 1\n",
    "\n",
    "        elif p2n1 <= p1n1 <= p2n2 or p2n1 <= p1n2 <= p2n2:\n",
    "            count += 1\n",
    "\n",
    "\n",
    "    return count\n",
    "\n",
    "\n",
    "contained_num(data)"
   ]
  },
  {
   "cell_type": "markdown",
   "metadata": {},
   "source": [
    "1000 too high"
   ]
  }
 ],
 "metadata": {
  "kernelspec": {
   "display_name": "Python 3",
   "language": "python",
   "name": "python3"
  },
  "language_info": {
   "codemirror_mode": {
    "name": "ipython",
    "version": 3
   },
   "file_extension": ".py",
   "mimetype": "text/x-python",
   "name": "python",
   "nbconvert_exporter": "python",
   "pygments_lexer": "ipython3",
   "version": "3.13.1"
  }
 },
 "nbformat": 4,
 "nbformat_minor": 2
}
