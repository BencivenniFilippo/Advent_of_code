{
 "cells": [
  {
   "cell_type": "markdown",
   "metadata": {},
   "source": [
    "--- Part Two ---\n",
    "By the time you calculate the answer to the Elves' question, they've already realized that the Elf carrying the most Calories of food might eventually run out of snacks.\n",
    "\n",
    "To avoid this unacceptable situation, the Elves would instead like to know the total Calories carried by the top three Elves carrying the most Calories. That way, even if one of those Elves runs out of snacks, they still have two backups.\n",
    "\n",
    "In the example above, the top three Elves are the fourth Elf (with 24000 Calories), then the third Elf (with 11000 Calories), then the fifth Elf (with 10000 Calories). The sum of the Calories carried by these three elves is 45000.\n",
    "\n",
    "Find the top three Elves carrying the most Calories. How many Calories are those Elves carrying in total?\n",
    "\n"
   ]
  },
  {
   "cell_type": "code",
   "execution_count": null,
   "metadata": {},
   "outputs": [],
   "source": [
    "with open('input_1.txt', 'r') as f:\n",
    "    data = [line.strip() for line in f.readlines()]\n",
    "\n",
    "curr_list = []\n",
    "new_data = []\n",
    "\n",
    "for item in data:\n",
    "    if item != '':\n",
    "        curr_list.append(int(item))\n",
    "    \n",
    "    else:\n",
    "        new_data.append(curr_list)\n",
    "        curr_list = []\n",
    "\n",
    "new_data"
   ]
  },
  {
   "cell_type": "code",
   "execution_count": 3,
   "metadata": {},
   "outputs": [
    {
     "data": {
      "text/plain": [
       "205381"
      ]
     },
     "execution_count": 3,
     "metadata": {},
     "output_type": "execute_result"
    }
   ],
   "source": [
    "def find_top3_max_sums(input):\n",
    "    max_sum_1 = 0\n",
    "    max_sum_2 = 0\n",
    "    max_sum_3 = 0\n",
    "\n",
    "    for nums in input:\n",
    "        tot = sum(num for num in nums)\n",
    "\n",
    "        if tot > max_sum_1:\n",
    "            max_sum_3 = max_sum_2\n",
    "            max_sum_2 = max_sum_1\n",
    "            max_sum_1 = tot\n",
    "        \n",
    "        elif tot > max_sum_2:\n",
    "            max_sum_3 = max_sum_2\n",
    "            max_sum_2 = tot\n",
    "        \n",
    "        elif tot > max_sum_3:\n",
    "            max_sum_3 = tot\n",
    "    \n",
    "    return (max_sum_1 + max_sum_2 + max_sum_3)\n",
    "\n",
    "find_top3_max_sums(new_data)"
   ]
  }
 ],
 "metadata": {
  "kernelspec": {
   "display_name": "Python 3",
   "language": "python",
   "name": "python3"
  },
  "language_info": {
   "codemirror_mode": {
    "name": "ipython",
    "version": 3
   },
   "file_extension": ".py",
   "mimetype": "text/x-python",
   "name": "python",
   "nbconvert_exporter": "python",
   "pygments_lexer": "ipython3",
   "version": "3.13.1"
  }
 },
 "nbformat": 4,
 "nbformat_minor": 2
}
