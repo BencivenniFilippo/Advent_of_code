{
 "cells": [
  {
   "cell_type": "markdown",
   "metadata": {},
   "source": [
    "# --- Part Two ---\n",
    "The engineer finds the missing part and installs it in the engine! As the engine springs to life, you jump in the closest gondola, finally ready to ascend to the water source.\n",
    "\n",
    "You don't seem to be going very fast, though. Maybe something is still wrong? Fortunately, the gondola has a phone labeled \"help\", so you pick it up and the engineer answers.\n",
    "\n",
    "Before you can explain the situation, she suggests that you look out the window. There stands the engineer, holding a phone in one hand and waving with the other. You're going so slowly that you haven't even left the station. You exit the gondola.\n",
    "\n",
    "The missing part wasn't the only issue - one of the gears in the engine is wrong. A gear is any * symbol that is adjacent to exactly two part numbers. Its gear ratio is the result of multiplying those two numbers together.\n",
    "\n",
    "This time, you need to find the gear ratio of every gear and add them all up so that the engineer can figure out which gear needs to be replaced.\n",
    "\n",
    "Consider the same engine schematic again:\n",
    "\n",
    "467..114..  \n",
    "...*......  \n",
    "..35..633.  \n",
    "......#...  \n",
    "617*......  \n",
    ".....+.58.  \n",
    "..592.....  \n",
    "......755.  \n",
    "...$.*....  \n",
    ".664.598.. \n",
    "\n",
    "In this schematic, there are two gears. The first is in the top left; it has part numbers 467 and 35, so its gear ratio is 16345. The second gear is in the lower right; its gear ratio is 451490. (The * adjacent to 617 is not a gear because it is only adjacent to one part number.) Adding up all of the gear ratios produces 467835.\n",
    "\n",
    "What is the sum of all of the gear ratios in your engine schematic?\n",
    "\n"
   ]
  },
  {
   "cell_type": "code",
   "execution_count": 16,
   "metadata": {},
   "outputs": [
    {
     "name": "stdout",
     "output_type": "stream",
     "text": [
      "140\n",
      "140\n"
     ]
    }
   ],
   "source": [
    "with open('input_3.txt', 'r') as f:\n",
    "    data = [list(line.strip()) for line in f.readlines()]\n",
    "\n",
    "num_rows = len(data)\n",
    "num_cols = len(data[0])\n",
    "print(num_rows)\n",
    "print(num_cols)\n",
    "#data"
   ]
  },
  {
   "cell_type": "code",
   "execution_count": 17,
   "metadata": {},
   "outputs": [
    {
     "data": {
      "text/plain": [
       "79613331"
      ]
     },
     "execution_count": 17,
     "metadata": {},
     "output_type": "execute_result"
    }
   ],
   "source": [
    "directions = [(-1, 0), (-1, 1), (0, 1), (1, 1), (1, 0), (1, -1), (0, -1), (-1, -1)]\n",
    "\n",
    "def sum_nums(data):\n",
    "    result = 0\n",
    "\n",
    "    for i in range(num_rows):\n",
    "        for j in range(num_cols):\n",
    "\n",
    "            checked = set()\n",
    "            numbers = []\n",
    "\n",
    "            if not data[i][j].isdigit() and data[i][j] != '.':\n",
    "\n",
    "                for di, dj in directions: # check if there is a number in each direction\n",
    "                    number = '' # a number adjacent to the symbol\n",
    "\n",
    "                    new_i = i + di\n",
    "                    new_j = j + dj\n",
    "\n",
    "                    if 0 <= new_i < num_rows and 0 <= new_j < num_cols and data[new_i][new_j].isdigit() and (new_i, new_j) not in checked:\n",
    "                        #print(f'NEW DIGIT ({new_i}, {new_j}) NOT IN CHECKED')\n",
    "                        checked.add((new_i, new_j))\n",
    "\n",
    "                        if data[new_i][new_j].isdigit():\n",
    "                            number += data[new_i][new_j]\n",
    "\n",
    "                            # check if the number has other digits: left\n",
    "                            if new_j > 0:\n",
    "                                left_j = new_j - 1\n",
    "                                while left_j >= 0 and data[new_i][left_j].isdigit():\n",
    "                                    #print(F'LEFT DIGIT IN ({new_i}, {left_j})')\n",
    "                                    number = data[new_i][left_j] + number\n",
    "                                    checked.add((new_i, left_j))\n",
    "                                    left_j -= 1\n",
    "\n",
    "                            # check if the number has other digits: right\n",
    "                            if new_j < num_cols - 1:\n",
    "                                right_j = new_j + 1\n",
    "                                while right_j <= num_cols-1 and data[new_i][right_j].isdigit():\n",
    "                                    #print(F'RIGHT DIGIT IN ({new_i}, {right_j})')\n",
    "                                    number += data[new_i][right_j]\n",
    "                                    checked.add((new_i, right_j))\n",
    "                                    right_j += 1\n",
    "\n",
    "                    if number:\n",
    "                        #print(number)\n",
    "                        #print(checked)\n",
    "                        numbers.append(number)\n",
    "                    \n",
    "                if len(numbers) == 2:\n",
    "                    num = int(numbers[0]) * int(numbers[1])\n",
    "                    result += num\n",
    "                        \n",
    "    return result\n",
    "\n",
    "sum_nums(data)"
   ]
  }
 ],
 "metadata": {
  "kernelspec": {
   "display_name": "Python 3",
   "language": "python",
   "name": "python3"
  },
  "language_info": {
   "codemirror_mode": {
    "name": "ipython",
    "version": 3
   },
   "file_extension": ".py",
   "mimetype": "text/x-python",
   "name": "python",
   "nbconvert_exporter": "python",
   "pygments_lexer": "ipython3",
   "version": "3.13.1"
  }
 },
 "nbformat": 4,
 "nbformat_minor": 2
}
