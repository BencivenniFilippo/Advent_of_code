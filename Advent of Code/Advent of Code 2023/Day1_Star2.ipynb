{
 "cells": [
  {
   "cell_type": "markdown",
   "metadata": {},
   "source": [
    "--- Part Two ---\n",
    "Your calculation isn't quite right. It looks like some of the digits are actually spelled out with letters: one, two, three, four, five, six, seven, eight, and nine also count as valid \"digits\".\n",
    "\n",
    "Equipped with this new information, you now need to find the real first and last digit on each line. For example:\n",
    "\n",
    "two1nine  \n",
    "eightwothree  \n",
    "abcone2threexyz  \n",
    "xtwone3four  \n",
    "4nineeightseven2  \n",
    "zoneight234  \n",
    "7pqrstsixteen  \n",
    "\n",
    "In this example, the calibration values are 29, 83, 13, 24, 42, 14, and 76. Adding these together produces 281.\n",
    "\n",
    "What is the sum of all of the calibration values?\n",
    "\n"
   ]
  },
  {
   "cell_type": "code",
   "execution_count": 21,
   "metadata": {},
   "outputs": [
    {
     "data": {
      "text/plain": [
       "['two1nine',\n",
       " 'eightwothree',\n",
       " 'abcone2threexyz',\n",
       " 'xtwone3four',\n",
       " '4nineeightseven2',\n",
       " 'zoneight234',\n",
       " '7pqrstsixteen']"
      ]
     },
     "execution_count": 21,
     "metadata": {},
     "output_type": "execute_result"
    }
   ],
   "source": [
    "with open('input_test.txt', 'r') as f:\n",
    "    data = f.readlines()\n",
    "\n",
    "    for i, line in enumerate(data):\n",
    "\n",
    "        data[i] = line.replace('\\n', '')\n",
    "\n",
    "data"
   ]
  },
  {
   "cell_type": "markdown",
   "metadata": {},
   "source": [
    "# IMPARA A USARE REGEX PRIMA DI FARE STA ROBA"
   ]
  },
  {
   "cell_type": "code",
   "execution_count": 22,
   "metadata": {},
   "outputs": [
    {
     "data": {
      "text/plain": [
       "['219', 'eigh23', 'abc123xyz', 'xtw134', '49872', 'z1ight234', '7pqrst6teen']"
      ]
     },
     "execution_count": 22,
     "metadata": {},
     "output_type": "execute_result"
    }
   ],
   "source": [
    "def convert_words(data):\n",
    "\n",
    "    written_nums ={\"one\": 1, \"two\": 2, \"three\": 3, \"four\": 4, \"five\": 5, \"six\": 6, \"seven\": 7, \"eight\": 8, \"nine\": 9}\n",
    "\n",
    "\n",
    "    for i, line in enumerate(data):\n",
    "        #print(line)\n",
    "\n",
    "        for num, word in written_nums.items():\n",
    "            #print(num)\n",
    "\n",
    "            if word in line:\n",
    "                line = line.replace(word, str(num))\n",
    "            \n",
    "        data[i] = line\n",
    "\n",
    "    return data\n",
    "\n",
    "convert_words(data)\n"
   ]
  },
  {
   "cell_type": "code",
   "execution_count": 23,
   "metadata": {},
   "outputs": [
    {
     "data": {
      "text/plain": [
       "['29', '23', '13', '14', '42', '14', '76']"
      ]
     },
     "execution_count": 23,
     "metadata": {},
     "output_type": "execute_result"
    }
   ],
   "source": [
    "def get_nums(data):\n",
    "    nums = []\n",
    "\n",
    "    for i, line in enumerate(data):\n",
    "\n",
    "        for j in range(len(line)):\n",
    "\n",
    "            if line[j].isdigit():\n",
    "                nums.append(line[j])\n",
    "                break\n",
    "\n",
    "        for j in range(len(line)-1, -1, -1):\n",
    "\n",
    "            if line[j].isdigit():\n",
    "                \n",
    "                nums[i] += line[j]\n",
    "                break\n",
    "        \n",
    "    return nums\n",
    "\n",
    "num_list = get_nums(data)\n",
    "num_list"
   ]
  },
  {
   "cell_type": "code",
   "execution_count": 24,
   "metadata": {},
   "outputs": [
    {
     "data": {
      "text/plain": [
       "211"
      ]
     },
     "execution_count": 24,
     "metadata": {},
     "output_type": "execute_result"
    }
   ],
   "source": [
    "def sum(nums):\n",
    "    result = 0\n",
    "    for num in nums:\n",
    "        result += int(num)\n",
    "    return result\n",
    "\n",
    "sum(num_list)"
   ]
  }
 ],
 "metadata": {
  "kernelspec": {
   "display_name": "Python 3",
   "language": "python",
   "name": "python3"
  },
  "language_info": {
   "codemirror_mode": {
    "name": "ipython",
    "version": 3
   },
   "file_extension": ".py",
   "mimetype": "text/x-python",
   "name": "python",
   "nbconvert_exporter": "python",
   "pygments_lexer": "ipython3",
   "version": "3.13.1"
  }
 },
 "nbformat": 4,
 "nbformat_minor": 2
}
