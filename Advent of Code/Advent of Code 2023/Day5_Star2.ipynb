{
 "cells": [
  {
   "cell_type": "markdown",
   "metadata": {},
   "source": [
    "# --- Part Two ---\n",
    "Everyone will starve if you only plant such a small number of seeds. Re-reading the almanac, it looks like the seeds: line actually describes ranges of seed numbers.\n",
    "\n",
    "The values on the initial seeds: line come in pairs. Within each pair, the first value is the start of the range and the second value is the length of the range. So, in the first line of the example above:\n",
    "\n",
    "seeds: 79 14 55 13  \n",
    "This line describes two ranges of seed numbers to be planted in the garden. The first range starts with seed number 79 and contains 14 values: 79, 80, ..., 91, 92. The second range starts with seed number 55 and contains 13 values: 55, 56, ..., 66, 67.\n",
    "\n",
    "Now, rather than considering four seed numbers, you need to consider a total of 27 seed numbers.\n",
    "\n",
    "In the above example, the lowest location number can be obtained from seed number 82, which corresponds to soil 84, fertilizer 84, water 84, light 77, temperature 45, humidity 46, and location 46. So, the lowest location number is 46.\n",
    "\n",
    "Consider all of the initial seed numbers listed in the ranges on the first line of the almanac. What is the lowest location number that corresponds to any of the initial seed numbers?"
   ]
  },
  {
   "cell_type": "code",
   "execution_count": 4,
   "metadata": {},
   "outputs": [],
   "source": [
    "with open('input_test.txt', 'r') as f:\n",
    "    data = [line.strip() for line in f.readlines()]\n",
    "#data"
   ]
  },
  {
   "cell_type": "code",
   "execution_count": 5,
   "metadata": {},
   "outputs": [],
   "source": [
    "def preprocessing(data):\n",
    "    data_dict = {}\n",
    "    curr_key = ''\n",
    "\n",
    "    for line in data:\n",
    "        if not line:\n",
    "            continue\n",
    "\n",
    "        if ':' in line:\n",
    "\n",
    "            if line.startswith('seeds'):\n",
    "\n",
    "                curr_key = 'seed'\n",
    "                data_dict[curr_key] = list(map(int, line.split(': ')[1].split()))\n",
    "\n",
    "            else:\n",
    "                curr_key = line[:-1]\n",
    "                data_dict[curr_key] = []\n",
    "        \n",
    "        else:\n",
    "            data_dict[curr_key].append(list(map(int, line.split())))\n",
    "        \n",
    "    return data_dict\n",
    "\n",
    "data_dict = preprocessing(data)\n",
    "maps_list = list(data_dict.values())\n",
    "seed_list = maps_list[0]\n",
    "del maps_list[0]\n",
    "for map_lists in maps_list:\n",
    "    map_lists.sort(key=lambda x: x[1])\n",
    "\n",
    "#maps_list"
   ]
  },
  {
   "cell_type": "code",
   "execution_count": 6,
   "metadata": {},
   "outputs": [],
   "source": [
    "for i in range(0, len(seed_list)):\n",
    "\n",
    "    if i % 2 != 0:\n",
    "        seed_list[i] += seed_list[i-1]\n",
    "\n",
    "#print(seed_list)"
   ]
  },
  {
   "cell_type": "code",
   "execution_count": 7,
   "metadata": {},
   "outputs": [
    {
     "name": "stdout",
     "output_type": "stream",
     "text": [
      "79\n",
      "93\n",
      "55\n",
      "68\n"
     ]
    },
    {
     "data": {
      "text/plain": [
       "46"
      ]
     },
     "execution_count": 7,
     "metadata": {},
     "output_type": "execute_result"
    }
   ],
   "source": [
    "def minimum_location(init_seed, final_seed, maps):\n",
    "\n",
    "    min_location = float('inf')\n",
    "\n",
    "    for seed in range(init_seed, final_seed):\n",
    "        #print('------------------')\n",
    "        #print(seed)\n",
    "        num = seed\n",
    "        \n",
    "        for maps in maps_list:\n",
    "            for map in maps:\n",
    "                destination, source, range_length = map\n",
    "\n",
    "                if source > num:\n",
    "                    break\n",
    "\n",
    "                if source <= num <= source + range_length:\n",
    "                    curr_range = num - source\n",
    "                    num = destination + curr_range\n",
    "                    break\n",
    "\n",
    "            min_location = min(num, min_location)\n",
    "\n",
    "    return min_location\n",
    "\n",
    "\n",
    "min_loc = float('inf')\n",
    "\n",
    "for i in range(0, len(seed_list), 2):\n",
    "    init_seed = seed_list[i]\n",
    "    final_seed = seed_list[i+1]\n",
    "\n",
    "    print(init_seed)\n",
    "    print(final_seed)\n",
    "    min_loc_function = minimum_location(init_seed, final_seed, maps_list)\n",
    "\n",
    "    min_loc = min(min_loc, min_loc_function)\n",
    "\n",
    "min_loc"
   ]
  }
 ],
 "metadata": {
  "kernelspec": {
   "display_name": "Python 3",
   "language": "python",
   "name": "python3"
  },
  "language_info": {
   "codemirror_mode": {
    "name": "ipython",
    "version": 3
   },
   "file_extension": ".py",
   "mimetype": "text/x-python",
   "name": "python",
   "nbconvert_exporter": "python",
   "pygments_lexer": "ipython3",
   "version": "3.13.1"
  }
 },
 "nbformat": 4,
 "nbformat_minor": 2
}
