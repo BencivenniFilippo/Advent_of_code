{
 "cells": [
  {
   "cell_type": "markdown",
   "metadata": {},
   "source": [
    "# --- Day 3: Gear Ratios ---\n",
    "You and the Elf eventually reach a gondola lift station; he says the gondola lift will take you up to the water source, but this is as far as he can bring you. You go inside.\n",
    "\n",
    "It doesn't take long to find the gondolas, but there seems to be a problem: they're not moving.\n",
    "\n",
    "\"Aaah!\"\n",
    "\n",
    "You turn around to see a slightly-greasy Elf with a wrench and a look of surprise. \"Sorry, I wasn't expecting anyone! The gondola lift isn't working right now; it'll still be a while before I can fix it.\" You offer to help.\n",
    "\n",
    "The engineer explains that an engine part seems to be missing from the engine, but nobody can figure out which one. If you can add up all the part numbers in the engine schematic, it should be easy to work out which part is missing.\n",
    "\n",
    "The engine schematic (your puzzle input) consists of a visual representation of the engine. There are lots of numbers and symbols you don't really understand, but apparently any number adjacent to a symbol, even diagonally, is a \"part number\" and should be included in your sum. (Periods (.) do not count as a symbol.)\n",
    "\n",
    "Here is an example engine schematic:\n",
    "\n",
    "467..114..  \n",
    "...*......  \n",
    "..35..633.  \n",
    "......#...  \n",
    "617*......  \n",
    ".....+.58.  \n",
    "..592.....  \n",
    "......755.  \n",
    "...$.*....  \n",
    ".664.598..  \n",
    "\n",
    "In this schematic, two numbers are not part numbers because they are not adjacent to a symbol: 114 (top right) and 58 (middle right). Every other number is adjacent to a symbol and so is a part number; their sum is 4361.\n",
    "\n",
    "Of course, the actual engine schematic is much larger. What is the sum of all of the part numbers in the engine schematic?\n",
    "\n"
   ]
  },
  {
   "cell_type": "code",
   "execution_count": 46,
   "metadata": {},
   "outputs": [
    {
     "name": "stdout",
     "output_type": "stream",
     "text": [
      "140\n",
      "140\n"
     ]
    }
   ],
   "source": [
    "with open('input_3.txt', 'r') as f:\n",
    "    data = f.readlines()\n",
    "\n",
    "    for i, line in enumerate(data):\n",
    "        data[i] = list(line.replace('\\n', ''))\n",
    "\n",
    "num_rows = len(data)\n",
    "num_cols = len(data[0])\n",
    "print(num_rows)\n",
    "print(num_cols)\n",
    "#data"
   ]
  },
  {
   "cell_type": "code",
   "execution_count": 47,
   "metadata": {},
   "outputs": [
    {
     "data": {
      "text/plain": [
       "543867"
      ]
     },
     "execution_count": 47,
     "metadata": {},
     "output_type": "execute_result"
    }
   ],
   "source": [
    "directions = [(-1, 0), (-1, 1), (0, 1), (1, 1), (1, 0), (1, -1), (0, -1), (-1, -1)]\n",
    "\n",
    "def sum_nums(data):\n",
    "    result = 0\n",
    "\n",
    "    for i in range(num_rows):\n",
    "        for j in range(num_cols):\n",
    "\n",
    "            checked = set()\n",
    "\n",
    "            if not data[i][j].isdigit() and data[i][j] != '.':\n",
    "\n",
    "                for di, dj in directions: # check if there is a number in each direction\n",
    "                    number = '' # a number adjacent to the symbol\n",
    "\n",
    "                    new_i = i + di\n",
    "                    new_j = j + dj\n",
    "\n",
    "                    if 0 <= new_i < num_rows and 0 <= new_j < num_cols and data[new_i][new_j].isdigit() and (new_i, new_j) not in checked:\n",
    "                        #print(f'NEW DIGIT ({new_i}, {new_j}) NOT IN CHECKED')\n",
    "                        checked.add((new_i, new_j))\n",
    "\n",
    "                        if data[new_i][new_j].isdigit():\n",
    "                            number += data[new_i][new_j]\n",
    "\n",
    "                            # check if the number has other digits: left\n",
    "                            if new_j > 0:\n",
    "                                left_j = new_j - 1\n",
    "                                while left_j >= 0 and data[new_i][left_j].isdigit():\n",
    "                                    #print(F'LEFT DIGIT IN ({new_i}, {left_j})')\n",
    "                                    number = data[new_i][left_j] + number\n",
    "                                    checked.add((new_i, left_j))\n",
    "                                    left_j -= 1\n",
    "\n",
    "                            # check if the number has other digits: right\n",
    "                            if new_j < num_cols - 1:\n",
    "                                right_j = new_j + 1\n",
    "                                while right_j <= num_cols-1 and data[new_i][right_j].isdigit():\n",
    "                                    #print(F'RIGHT DIGIT IN ({new_i}, {right_j})')\n",
    "                                    number += data[new_i][right_j]\n",
    "                                    checked.add((new_i, right_j))\n",
    "                                    right_j += 1\n",
    "\n",
    "                    if number:\n",
    "                        #print(number)\n",
    "                        #print(checked)\n",
    "                        result += int(number)\n",
    "                        \n",
    "    return result\n",
    "\n",
    "sum_nums(data)"
   ]
  }
 ],
 "metadata": {
  "kernelspec": {
   "display_name": "Python 3",
   "language": "python",
   "name": "python3"
  },
  "language_info": {
   "codemirror_mode": {
    "name": "ipython",
    "version": 3
   },
   "file_extension": ".py",
   "mimetype": "text/x-python",
   "name": "python",
   "nbconvert_exporter": "python",
   "pygments_lexer": "ipython3",
   "version": "3.13.1"
  }
 },
 "nbformat": 4,
 "nbformat_minor": 2
}
