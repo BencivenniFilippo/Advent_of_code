{
 "cells": [
  {
   "cell_type": "markdown",
   "metadata": {},
   "source": [
    "--- Day 9: Disk Fragmenter ---\n",
    "Another push of the button leaves you in the familiar hallways of some friendly amphipods! Good thing you each somehow got your own personal mini submarine. The Historians jet away in search of the Chief, mostly by driving directly into walls.\n",
    "\n",
    "While The Historians quickly figure out how to pilot these things, you notice an amphipod in the corner struggling with his computer. He's trying to make more contiguous free space by compacting all of the files, but his program isn't working; you offer to help.\n",
    "\n",
    "He shows you the disk map (your puzzle input) he's already generated. For example:\n",
    "\n",
    "2333133121414131402\n",
    "The disk map uses a dense format to represent the layout of files and free space on the disk. The digits alternate between indicating the length of a file and the length of free space.\n",
    "\n",
    "So, a disk map like 12345 would represent a one-block file, two blocks of free space, a three-block file, four blocks of free space, and then a five-block file. A disk map like 90909 would represent three nine-block files in a row (with no free space between them).\n",
    "\n",
    "Each file on disk also has an ID number based on the order of the files as they appear before they are rearranged, starting with ID 0. So, the disk map 12345 has three files: a one-block file with ID 0, a three-block file with ID 1, and a five-block file with ID 2. Using one character for each block where digits are the file ID and . is free space, the disk map 12345 represents these individual blocks:\n",
    "\n",
    "0..111....22222\n",
    "The first example above, 2333133121414131402, represents these individual blocks:\n",
    "\n",
    "00...111...2...333.44.5555.6666.777.888899  \n",
    "The amphipod would like to move file blocks one at a time from the end of the disk to the leftmost free space block (until there are no gaps remaining between file blocks). For the disk map 12345, the process looks like this:\n",
    "\n",
    "0..111....22222  \n",
    "02.111....2222.  \n",
    "022111....222..  \n",
    "0221112...22...  \n",
    "02211122..2....  \n",
    "022111222......  \n",
    "\n",
    "The first example requires a few more steps:\n",
    "\n",
    "00...111...2...333.44.5555.6666.777.888899  \n",
    "009..111...2...333.44.5555.6666.777.88889.  \n",
    "0099.111...2...333.44.5555.6666.777.8888..  \n",
    "00998111...2...333.44.5555.6666.777.888...  \n",
    "009981118..2...333.44.5555.6666.777.88....  \n",
    "0099811188.2...333.44.5555.6666.777.8.....  \n",
    "009981118882...333.44.5555.6666.777.......  \n",
    "0099811188827..333.44.5555.6666.77........  \n",
    "00998111888277.333.44.5555.6666.7.........  \n",
    "009981118882777333.44.5555.6666...........  \n",
    "009981118882777333644.5555.666............  \n",
    "00998111888277733364465555.66.............  \n",
    "0099811188827773336446555566..............  \n",
    "\n",
    "The final step of this file-compacting process is to update the filesystem checksum. To calculate the checksum, add up the result of multiplying each of these blocks' position with the file ID number it contains. The leftmost block is in position 0. If a block contains free space, skip it instead.\n",
    "\n",
    "Continuing the first example, the first few blocks' position multiplied by its file ID number are 0 * 0 = 0, 1 * 0 = 0, 2 * 9 = 18, 3 * 9 = 27, 4 * 8 = 32, and so on. In this example, the checksum is the sum of these, 1928.\n",
    "\n",
    "Compact the amphipod's hard drive using the process he requested. What is the resulting filesystem checksum? (Be careful copy/pasting the input for this puzzle; it is a single, very long line.)\n",
    "\n"
   ]
  },
  {
   "cell_type": "code",
   "execution_count": 5,
   "metadata": {},
   "outputs": [],
   "source": [
    "with open('input_9.txt', 'r') as f:\n",
    "    data = list(f.readline())\n",
    "\n",
    "#data"
   ]
  },
  {
   "cell_type": "code",
   "execution_count": 6,
   "metadata": {},
   "outputs": [],
   "source": [
    "def individual_blocks(line):\n",
    "    result = ''\n",
    "    count = 0\n",
    "    for i, num in enumerate(line):\n",
    "        num = int(num)\n",
    "\n",
    "        if i % 2 == 0:\n",
    "            result += str(count) * num\n",
    "            count += 1\n",
    "\n",
    "        else:\n",
    "            result += '.' * num\n",
    "\n",
    "    return result\n",
    "\n",
    "individual_blocks_output = individual_blocks(data)\n",
    "#individual_blocks_output"
   ]
  },
  {
   "cell_type": "code",
   "execution_count": 7,
   "metadata": {},
   "outputs": [],
   "source": [
    "def move_blocks(blocks):\n",
    "\n",
    "    left = 0\n",
    "    right = len(blocks) - 1\n",
    "\n",
    "    while left < right:\n",
    "\n",
    "        while blocks[left] != '.' and left < right:\n",
    "            left += 1\n",
    "            \n",
    "        while not blocks[right].isdigit() and left < right:\n",
    "            right -= 1\n",
    "\n",
    "        if left < right:\n",
    "            blocks[left], blocks[right] = blocks[right], blocks[left]\n",
    "            left += 1\n",
    "            right -= 1\n",
    "            #print(''.join(blocks))\n",
    "\n",
    "    return blocks\n",
    "\n",
    "move_blocks_output = move_blocks(list(individual_blocks_output))\n",
    "#move_blocks_output"
   ]
  },
  {
   "cell_type": "code",
   "execution_count": 8,
   "metadata": {},
   "outputs": [
    {
     "data": {
      "text/plain": [
       "89536572931"
      ]
     },
     "execution_count": 8,
     "metadata": {},
     "output_type": "execute_result"
    }
   ],
   "source": [
    "def check_sum(file):\n",
    "    result = 0\n",
    "    \n",
    "    for i, num in enumerate(file):\n",
    "\n",
    "       if not num.isdigit():\n",
    "           break\n",
    "\n",
    "       to_add = i*int(num)\n",
    "       result += to_add\n",
    "    \n",
    "    return result\n",
    "\n",
    "check_sum(move_blocks_output)\n"
   ]
  },
  {
   "cell_type": "markdown",
   "metadata": {},
   "source": [
    "89536572931 too low"
   ]
  }
 ],
 "metadata": {
  "kernelspec": {
   "display_name": "Python 3",
   "language": "python",
   "name": "python3"
  },
  "language_info": {
   "codemirror_mode": {
    "name": "ipython",
    "version": 3
   },
   "file_extension": ".py",
   "mimetype": "text/x-python",
   "name": "python",
   "nbconvert_exporter": "python",
   "pygments_lexer": "ipython3",
   "version": "3.13.1"
  }
 },
 "nbformat": 4,
 "nbformat_minor": 2
}
