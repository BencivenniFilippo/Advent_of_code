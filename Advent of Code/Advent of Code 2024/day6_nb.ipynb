{
 "cells": [
  {
   "cell_type": "code",
   "execution_count": 390,
   "metadata": {},
   "outputs": [],
   "source": [
    "with open('input_6.txt', 'r') as f:\n",
    "    data = f.readlines()\n",
    "    lines =[list(line.strip(\"\\n\")) for line in data]"
   ]
  },
  {
   "cell_type": "code",
   "execution_count": 391,
   "metadata": {},
   "outputs": [
    {
     "name": "stdout",
     "output_type": "stream",
     "text": [
      "righe:  130\n",
      "colonne: 130\n"
     ]
    }
   ],
   "source": [
    "print(\"righe: \", len(lines))\n",
    "print(\"colonne:\", len(lines[0]))"
   ]
  },
  {
   "cell_type": "code",
   "execution_count": 392,
   "metadata": {},
   "outputs": [],
   "source": [
    "def start_of_maze(input):\n",
    "    \n",
    "    for i, row in enumerate(input):\n",
    "        for j, column in enumerate(input[i]):\n",
    "            \n",
    "            if column == \"^\":\n",
    "\n",
    "                starting_position = (i,j)\n",
    "                return starting_position\n"
   ]
  },
  {
   "cell_type": "code",
   "execution_count": 393,
   "metadata": {},
   "outputs": [],
   "source": [
    "starting_position = start_of_maze(lines)"
   ]
  },
  {
   "cell_type": "code",
   "execution_count": 394,
   "metadata": {},
   "outputs": [
    {
     "data": {
      "text/plain": [
       "'^'"
      ]
     },
     "execution_count": 394,
     "metadata": {},
     "output_type": "execute_result"
    }
   ],
   "source": [
    "lines[47][42]"
   ]
  },
  {
   "cell_type": "code",
   "execution_count": 395,
   "metadata": {},
   "outputs": [],
   "source": [
    "directions = [\n",
    "    (-1, 0),\n",
    "    (0, 1),\n",
    "    (1, 0),\n",
    "    (0,-1)\n",
    "]\n",
    "\n",
    "current_direction = 0"
   ]
  },
  {
   "cell_type": "code",
   "execution_count": 396,
   "metadata": {},
   "outputs": [
    {
     "data": {
      "text/plain": [
       "(-1, 0)"
      ]
     },
     "execution_count": 396,
     "metadata": {},
     "output_type": "execute_result"
    }
   ],
   "source": [
    "directions[current_direction]"
   ]
  },
  {
   "cell_type": "code",
   "execution_count": 397,
   "metadata": {},
   "outputs": [],
   "source": [
    "curr_pos = starting_position"
   ]
  },
  {
   "cell_type": "code",
   "execution_count": 398,
   "metadata": {},
   "outputs": [
    {
     "data": {
      "text/plain": [
       "'^'"
      ]
     },
     "execution_count": 398,
     "metadata": {},
     "output_type": "execute_result"
    }
   ],
   "source": [
    "lines[curr_pos[0]][curr_pos[1]]"
   ]
  },
  {
   "cell_type": "code",
   "execution_count": 399,
   "metadata": {},
   "outputs": [],
   "source": [
    "history = set()\n",
    "history.add(curr_pos)"
   ]
  },
  {
   "cell_type": "code",
   "execution_count": 400,
   "metadata": {},
   "outputs": [
    {
     "data": {
      "text/plain": [
       "{(47, 42)}"
      ]
     },
     "execution_count": 400,
     "metadata": {},
     "output_type": "execute_result"
    }
   ],
   "source": [
    "history"
   ]
  },
  {
   "cell_type": "code",
   "execution_count": 401,
   "metadata": {},
   "outputs": [],
   "source": [
    "side = len(lines)"
   ]
  },
  {
   "cell_type": "code",
   "execution_count": 402,
   "metadata": {},
   "outputs": [],
   "source": [
    "next_position = (curr_pos[0] + directions[current_direction][0], curr_pos[1] + directions[current_direction][1])"
   ]
  },
  {
   "cell_type": "code",
   "execution_count": 403,
   "metadata": {},
   "outputs": [
    {
     "name": "stdout",
     "output_type": "stream",
     "text": [
      "out of bounds. steps made: 4647\n"
     ]
    }
   ],
   "source": [
    "while True:\n",
    "    \n",
    "    curr_pos = next_position\n",
    "    next_position = (curr_pos[0] + directions[current_direction][0], curr_pos[1] + directions[current_direction][1])\n",
    "\n",
    "    if next_position[0] >= side or next_position[1] >= side or  next_position[0] < 0 or next_position[1] < 0:\n",
    "        if curr_pos not in history:\n",
    "            history.add(curr_pos)\n",
    "            lines[curr_pos[0]][curr_pos[1]] = \"X\"\n",
    "        print(\"out of bounds. steps made:\", len(history))\n",
    "        break\n",
    "\n",
    "    if lines[next_position[0]][next_position[1]] == \"#\":\n",
    "        current_direction += 1\n",
    "        current_direction %= 4\n",
    "        next_position = (curr_pos[0] + directions[current_direction][0], curr_pos[1] + directions[current_direction][1])\n",
    "\n",
    "\n",
    "    if curr_pos not in history:\n",
    "        history.add(curr_pos)\n",
    "        lines[curr_pos[0]][curr_pos[1]] = \"X\""
   ]
  },
  {
   "cell_type": "code",
   "execution_count": 404,
   "metadata": {},
   "outputs": [],
   "source": [
    "with open(\"output_test.txt\", \"w\") as f:\n",
    "    for line in lines:\n",
    "        for cell in line:\n",
    "            f.write(cell)\n",
    "\n",
    "        f.write(\"\\n\")"
   ]
  },
  {
   "cell_type": "code",
   "execution_count": null,
   "metadata": {},
   "outputs": [],
   "source": [
    "    "
   ]
  }
 ],
 "metadata": {
  "kernelspec": {
   "display_name": "Python 3",
   "language": "python",
   "name": "python3"
  },
  "language_info": {
   "codemirror_mode": {
    "name": "ipython",
    "version": 3
   },
   "file_extension": ".py",
   "mimetype": "text/x-python",
   "name": "python",
   "nbconvert_exporter": "python",
   "pygments_lexer": "ipython3",
   "version": "3.12.0"
  }
 },
 "nbformat": 4,
 "nbformat_minor": 2
}
