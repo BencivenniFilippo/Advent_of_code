{
 "cells": [
  {
   "cell_type": "markdown",
   "metadata": {},
   "source": [
    "--- Part Two ---\n",
    "Watching over your shoulder as you work, one of The Historians asks if you took the effects of resonant harmonics into your calculations.\n",
    "\n",
    "Whoops!\n",
    "\n",
    "After updating your model, it turns out that an antinode occurs at any grid position exactly in line with at least two antennas of the same frequency, regardless of distance. This means that some of the new antinodes will occur at the position of each antenna (unless that antenna is the only one of its frequency).\n",
    "\n",
    "So, these three T-frequency antennas now create many antinodes:\n",
    "\n",
    "T....#....  \n",
    "...T......  \n",
    ".T....#...  \n",
    ".........#  \n",
    "..#.......  \n",
    "..........  \n",
    "...#......  \n",
    "..........  \n",
    "....#.....  \n",
    "..........  \n",
    "\n",
    "In fact, the three T-frequency antennas are all exactly in line with two antennas, so they are all also antinodes! This brings the total number of antinodes in the above example to 9.\n",
    "\n",
    "The original example now has 34 antinodes, including the antinodes that appear on every antenna:\n",
    "\n",
    "##....#....#  \n",
    ".#.#....0...  \n",
    "..#.#0....#.  \n",
    "..##...0....  \n",
    "....0....#..  \n",
    ".#...#A....#  \n",
    "...#..#.....  \n",
    "#....#.#....  \n",
    "..#.....A...  \n",
    "....#....A..  \n",
    ".#........#.  \n",
    "...#......##  \n",
    "\n",
    "Calculate the impact of the signal using this updated model. How many unique locations within the bounds of the map contain an antinode?\n",
    "\n"
   ]
  },
  {
   "cell_type": "code",
   "execution_count": 29,
   "metadata": {},
   "outputs": [
    {
     "name": "stdout",
     "output_type": "stream",
     "text": [
      "12\n",
      "12\n"
     ]
    },
    {
     "data": {
      "text/plain": [
       "[['.', '.', '.', '.', '.', '.', '#', '.', '.', '.', '.', '#'],\n",
       " ['.', '.', '.', '#', '.', '.', '.', '.', '0', '.', '.', '.'],\n",
       " ['.', '.', '.', '.', '#', '0', '.', '.', '.', '.', '#', '.'],\n",
       " ['.', '.', '#', '.', '.', '.', '.', '0', '.', '.', '.', '.'],\n",
       " ['.', '.', '.', '.', '0', '.', '.', '.', '.', '#', '.', '.'],\n",
       " ['.', '#', '.', '.', '.', '.', 'A', '.', '.', '.', '.', '.'],\n",
       " ['.', '.', '.', '#', '.', '.', '.', '.', '.', '.', '.', '.'],\n",
       " ['#', '.', '.', '.', '.', '.', '.', '#', '.', '.', '.', '.'],\n",
       " ['.', '.', '.', '.', '.', '.', '.', '.', 'A', '.', '.', '.'],\n",
       " ['.', '.', '.', '.', '.', '.', '.', '.', '.', 'A', '.', '.'],\n",
       " ['.', '.', '.', '.', '.', '.', '.', '.', '.', '.', '#', '.'],\n",
       " ['.', '.', '.', '.', '.', '.', '.', '.', '.', '.', '#', '.']]"
      ]
     },
     "execution_count": 29,
     "metadata": {},
     "output_type": "execute_result"
    }
   ],
   "source": [
    "with open('input_test.txt', 'r') as f:\n",
    "    data = f.readlines()\n",
    "\n",
    "    for i, line in enumerate(data):\n",
    "        data[i] = list(line.replace('\\n', ''))\n",
    "\n",
    "num_rows = len(data)\n",
    "num_cols = len(data[0])\n",
    "\n",
    "print(num_rows)\n",
    "print(num_cols)\n",
    "data"
   ]
  },
  {
   "cell_type": "code",
   "execution_count": 30,
   "metadata": {},
   "outputs": [
    {
     "name": "stdout",
     "output_type": "stream",
     "text": [
      "{'0': [(1, 8), (2, 5), (3, 7), (4, 4)], 'A': [(5, 6), (8, 8), (9, 9)]}\n"
     ]
    }
   ],
   "source": [
    "from collections import defaultdict\n",
    "\n",
    "def storing_character_locations(grid):\n",
    "\n",
    "    char_locations = defaultdict(list)\n",
    "\n",
    "    for i in range(num_rows):\n",
    "        for j in range(num_cols):\n",
    "            char = grid[i][j]\n",
    "\n",
    "            if char != '.' and char != '#':\n",
    "                char_locations[char].append((i, j))\n",
    "        \n",
    "    return dict(char_locations)\n",
    "\n",
    "print(storing_character_locations(data))"
   ]
  },
  {
   "cell_type": "code",
   "execution_count": 31,
   "metadata": {},
   "outputs": [
    {
     "name": "stdout",
     "output_type": "stream",
     "text": [
      "{'0': [(1, 8), (2, 5), (3, 7), (4, 4)], 'A': [(5, 6), (8, 8), (9, 9)]}\n"
     ]
    },
    {
     "data": {
      "text/plain": [
       "34"
      ]
     },
     "execution_count": 31,
     "metadata": {},
     "output_type": "execute_result"
    }
   ],
   "source": [
    "def count_antinodes(char_locations):\n",
    "    print(char_locations)\n",
    "    result = 0\n",
    "    all_char_positions = set((i, j) for locs in char_locations.values() for (i, j) in locs)\n",
    "\n",
    "\n",
    "    for char, position in char_locations.items():\n",
    "        n = len(position)\n",
    "\n",
    "        for i in range(n):\n",
    "            for j in range(i + 1, n):\n",
    "\n",
    "                x1, y1 = position[i]\n",
    "                x2, y2 = position[j]\n",
    "\n",
    "                dx = x2 - x1\n",
    "                dy = y2 - y1\n",
    "                \n",
    "                \n",
    "                ax1, ay1 = x1 - dx, y1 - dy\n",
    "                while 0 <= ax1 < num_cols and 0 <= ay1 < num_rows:\n",
    "\n",
    "                    if (ax1, ay1) not in all_char_positions:\n",
    "                        result += 1\n",
    "                    \n",
    "                    ax1, ay1 = ax1 - dx, ay1 - dy\n",
    "\n",
    "\n",
    "                ax2, ay2 = x2 + dx, y2 + dy\n",
    "                while 0 <= ax2 < num_cols and 0 <= ay2 < num_rows:\n",
    "\n",
    "                    if (ax2, ay2) not in all_char_positions:    \n",
    "                        result += 1\n",
    "\n",
    "                    ax2, ay2 = ax2 - dx, ay2 - dy\n",
    "\n",
    "    return result\n",
    "\n",
    "count_antinodes(storing_character_locations(data))"
   ]
  },
  {
   "cell_type": "code",
   "execution_count": null,
   "metadata": {},
   "outputs": [],
   "source": []
  }
 ],
 "metadata": {
  "kernelspec": {
   "display_name": "Python 3",
   "language": "python",
   "name": "python3"
  },
  "language_info": {
   "codemirror_mode": {
    "name": "ipython",
    "version": 3
   },
   "file_extension": ".py",
   "mimetype": "text/x-python",
   "name": "python",
   "nbconvert_exporter": "python",
   "pygments_lexer": "ipython3",
   "version": "3.13.1"
  }
 },
 "nbformat": 4,
 "nbformat_minor": 2
}
